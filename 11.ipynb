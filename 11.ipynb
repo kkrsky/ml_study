{
 "cells": [
  {
   "cell_type": "code",
   "execution_count": 1,
   "id": "594477d2",
   "metadata": {},
   "outputs": [],
   "source": [
    "import numpy as np\n",
    "import matplotlib.pyplot as plt\n",
    "from sklearn.datasets import make_moons"
   ]
  },
  {
   "cell_type": "code",
   "execution_count": 10,
   "id": "cfbc8fc3",
   "metadata": {},
   "outputs": [],
   "source": [
    "moons = make_moons(n_samples=200,noise=0.2,random_state=0)\n",
    "x = moons[0] # data\n",
    "y = moons[1] # target (正解ラベル)\n"
   ]
  },
  {
   "cell_type": "code",
   "execution_count": 19,
   "id": "09edf635",
   "metadata": {},
   "outputs": [
    {
     "data": {
      "text/plain": [
       "array([[ 0.74346118,  0.46465633],\n",
       "       [ 1.65755662, -0.63203157],\n",
       "       [-0.15878875,  0.25584465],\n",
       "       [-1.088752  , -0.39694315],\n",
       "       [ 1.768052  , -0.25443213],\n",
       "       [ 1.95416454, -0.12850579],\n",
       "       [ 0.93694537,  0.36597075],\n",
       "       [ 0.88446589, -0.47595401],\n",
       "       [ 0.80950246,  0.3505231 ],\n",
       "       [ 1.2278091 , -0.64785108],\n",
       "       [-0.38454276,  0.50916381],\n",
       "       [ 0.09252135, -0.31618454],\n",
       "       [ 1.79531658, -0.32235591],\n",
       "       [ 1.43861749, -0.15796611],\n",
       "       [-0.82364866,  0.86822754],\n",
       "       [ 0.99633397,  0.1731019 ],\n",
       "       [ 0.66388701,  0.94659669],\n",
       "       [ 0.13229471, -0.26032619],\n",
       "       [ 0.2482245 ,  0.7860477 ],\n",
       "       [-1.00392102,  1.15207238],\n",
       "       [ 2.08208438,  0.00715606],\n",
       "       [ 0.87081342, -0.4366643 ],\n",
       "       [ 0.37268327,  1.01743002],\n",
       "       [ 1.26735927, -0.11813675],\n",
       "       [-0.13270154,  1.26653562],\n",
       "       [ 0.20331   ,  0.19519454],\n",
       "       [ 1.98373996, -0.11222315],\n",
       "       [ 1.82749513, -0.03085446],\n",
       "       [-0.03857867,  0.0838378 ],\n",
       "       [ 0.03351023,  0.63113817],\n",
       "       [ 0.94193283,  0.63204507],\n",
       "       [-0.39131894,  0.40925201],\n",
       "       [ 0.88357043, -0.35868845],\n",
       "       [-0.01141219,  0.30437635],\n",
       "       [ 0.75877114,  0.76057045],\n",
       "       [ 1.79414416,  0.28323389],\n",
       "       [ 0.56116634, -0.0330033 ],\n",
       "       [ 0.87161309,  0.01715969],\n",
       "       [-0.75191922,  0.63798317],\n",
       "       [-0.21911253,  0.49662864],\n",
       "       [ 0.63711933, -0.55537183],\n",
       "       [-0.25531442,  0.83953933],\n",
       "       [ 0.57753017,  0.64564015],\n",
       "       [ 0.15931878, -0.02835184],\n",
       "       [ 1.53296943, -0.36277826],\n",
       "       [-0.24648981,  1.09136047],\n",
       "       [ 1.16443301,  0.01495781],\n",
       "       [-0.70574528,  0.54883003],\n",
       "       [ 0.16919147, -0.30895665],\n",
       "       [ 1.0717818 , -0.40141988],\n",
       "       [-0.8970433 ,  0.87690996],\n",
       "       [ 0.4828491 , -0.21452374],\n",
       "       [ 2.25536302,  0.02862685],\n",
       "       [-0.62523133,  0.03868576],\n",
       "       [ 1.22821377, -0.50119159],\n",
       "       [ 0.84248307,  0.55728315],\n",
       "       [ 0.45857236,  0.5017019 ],\n",
       "       [ 0.98031957, -0.56811367],\n",
       "       [ 0.1059936 ,  0.90514125],\n",
       "       [-0.21582418,  1.03521642],\n",
       "       [ 0.06721632, -0.1649077 ],\n",
       "       [-1.07873435,  0.36644163],\n",
       "       [ 1.60172165, -0.37604995],\n",
       "       [ 1.02592325,  0.42143427],\n",
       "       [ 1.06739115, -0.38783511],\n",
       "       [-1.35462041,  0.28524762],\n",
       "       [-0.20784982,  1.09043495],\n",
       "       [ 1.61652485, -0.29469483],\n",
       "       [ 0.26375409,  0.91508367],\n",
       "       [-0.99805184,  0.62420544],\n",
       "       [ 0.62273618, -0.52804644],\n",
       "       [-1.0873102 ,  0.78128608],\n",
       "       [ 0.01262924, -0.59715374],\n",
       "       [-0.52953439,  0.69307316],\n",
       "       [ 0.78362442, -0.25844144],\n",
       "       [-0.94262451,  0.57258351],\n",
       "       [ 0.09048712,  0.0890939 ],\n",
       "       [ 0.99716574,  0.35017425],\n",
       "       [ 0.4630177 ,  0.86392418],\n",
       "       [ 0.71787709, -0.09708361],\n",
       "       [ 2.13330659,  0.11200406],\n",
       "       [-0.41467068,  0.92254691],\n",
       "       [ 0.6233932 , -0.69422694],\n",
       "       [ 2.04970274,  0.66368306],\n",
       "       [-0.00353234,  0.21487064],\n",
       "       [-0.27631969,  1.34161045],\n",
       "       [ 0.82262609, -0.02317445],\n",
       "       [-0.46610015,  0.98764879],\n",
       "       [ 0.64426474, -0.36209808],\n",
       "       [ 1.96682571,  0.2646737 ],\n",
       "       [ 0.71060915,  0.80990546],\n",
       "       [ 1.12820353,  0.4664342 ],\n",
       "       [ 1.99150162,  0.02534858],\n",
       "       [-0.66342048,  0.85301441],\n",
       "       [ 2.0436285 ,  0.24563453],\n",
       "       [ 1.77377397, -0.10513907],\n",
       "       [ 1.773464  , -0.34102513],\n",
       "       [ 0.66137686, -0.31314104],\n",
       "       [-1.15442774,  0.40574243],\n",
       "       [ 0.04167562, -0.07462092],\n",
       "       [ 1.40426435, -0.93206382],\n",
       "       [ 1.99317676,  0.48903983],\n",
       "       [ 0.17673342,  1.3178874 ],\n",
       "       [ 1.12344625, -0.09556327],\n",
       "       [-0.64018301,  0.75214137],\n",
       "       [ 0.17295579,  0.60135526],\n",
       "       [-0.97644617,  0.03612864],\n",
       "       [-0.56357758,  1.15774717],\n",
       "       [ 1.60440089, -0.35116358],\n",
       "       [ 0.13387667,  0.6944329 ],\n",
       "       [-0.59909677,  0.76903039],\n",
       "       [ 0.1023533 ,  1.09326207],\n",
       "       [-0.22047436,  1.28343927],\n",
       "       [-0.70416708,  0.30649274],\n",
       "       [ 0.95709601,  0.30502143],\n",
       "       [ 1.65936346, -0.70351567],\n",
       "       [ 0.18911691,  0.64887424],\n",
       "       [ 2.02773677,  0.25021451],\n",
       "       [ 0.6515764 , -0.40677494],\n",
       "       [ 0.55688998,  0.26120887],\n",
       "       [ 0.81816111,  0.78952806],\n",
       "       [-0.48367053,  0.43679813],\n",
       "       [-0.14739828,  0.22556193],\n",
       "       [ 0.11834786,  0.99156023],\n",
       "       [-0.25253387,  0.18776697],\n",
       "       [-0.93313522,  0.73385959],\n",
       "       [ 0.6975216 , -0.11832611],\n",
       "       [ 0.33332321,  0.14006592],\n",
       "       [ 1.06519327, -0.38867949],\n",
       "       [ 1.9369961 ,  0.63112161],\n",
       "       [ 1.05840957,  0.51858443],\n",
       "       [-0.50840939,  0.55259494],\n",
       "       [-1.32109805,  0.51437657],\n",
       "       [ 0.29449971, -0.26078938],\n",
       "       [ 1.33653621, -0.18005761],\n",
       "       [ 1.51241178,  0.11081331],\n",
       "       [ 1.01934807, -0.17993629],\n",
       "       [-1.13305483,  0.11109962],\n",
       "       [ 2.07463826,  0.51253705],\n",
       "       [ 0.73451679,  0.5346233 ],\n",
       "       [-0.12213442,  0.15292037],\n",
       "       [-0.0557186 ,  0.57286794],\n",
       "       [ 0.45046033,  1.09585861],\n",
       "       [-0.7204608 ,  1.01733354],\n",
       "       [-0.33698825,  0.89060661],\n",
       "       [ 1.0628775 ,  0.17231496],\n",
       "       [ 0.34005355,  0.32486358],\n",
       "       [ 1.24491552, -0.5137574 ],\n",
       "       [ 0.30966003,  1.16677531],\n",
       "       [-0.06114159, -0.02921072],\n",
       "       [ 0.48281721, -0.43196099],\n",
       "       [ 1.68734249, -0.6872367 ],\n",
       "       [ 0.80862106,  0.28415372],\n",
       "       [ 0.29809162,  0.82211432],\n",
       "       [ 0.8496547 , -0.30507345],\n",
       "       [-0.3802171 ,  0.88414623],\n",
       "       [ 1.32734432, -0.48056888],\n",
       "       [ 0.23337057,  0.10750568],\n",
       "       [ 0.68841773,  1.15068264],\n",
       "       [ 0.6779624 ,  0.78024482],\n",
       "       [ 0.3395913 , -0.02223857],\n",
       "       [ 1.30440877, -0.52950917],\n",
       "       [ 0.75307594,  0.8526869 ],\n",
       "       [ 1.4298847 , -0.21080222],\n",
       "       [ 0.55631903, -0.70781481],\n",
       "       [ 1.45384401,  0.12718529],\n",
       "       [ 0.3203754 ,  0.87271389],\n",
       "       [ 0.53148147, -0.27424077],\n",
       "       [ 1.51658699, -0.45069719],\n",
       "       [ 0.99826403, -0.80979075],\n",
       "       [ 0.63918299,  0.96606739],\n",
       "       [-1.2855903 ,  0.10677262],\n",
       "       [-1.07840959,  0.56402523],\n",
       "       [-0.57716798,  0.2942259 ],\n",
       "       [ 0.25403599, -0.00644002],\n",
       "       [ 0.91722632, -0.29657499],\n",
       "       [ 1.43380709,  0.69183071],\n",
       "       [-0.70851168,  0.49617855],\n",
       "       [-0.64683386,  0.46971252],\n",
       "       [ 0.30143461,  0.76398572],\n",
       "       [ 1.48069489, -0.3572808 ],\n",
       "       [-1.02663961,  0.41265823],\n",
       "       [ 1.89660871,  0.25413209],\n",
       "       [ 2.04251223, -0.46074593],\n",
       "       [ 1.92673019,  0.40817963],\n",
       "       [ 0.35766276,  1.0872811 ],\n",
       "       [ 0.1240315 ,  0.67672995],\n",
       "       [ 0.97332087, -0.70530678],\n",
       "       [-0.72894228,  0.44179419],\n",
       "       [-0.69863061,  0.77620293],\n",
       "       [-0.93516752,  0.43520803],\n",
       "       [ 0.45166927,  1.00185497],\n",
       "       [ 0.87629641,  0.28951999],\n",
       "       [ 0.88155818,  0.23925957],\n",
       "       [-0.07795147,  0.27995261],\n",
       "       [-0.56365899,  0.8918972 ],\n",
       "       [ 1.6049806 ,  0.13835516],\n",
       "       [ 0.27695668,  0.01210816],\n",
       "       [ 0.25919429,  1.04104213],\n",
       "       [ 1.5215205 , -0.1258923 ]])"
      ]
     },
     "execution_count": 19,
     "metadata": {},
     "output_type": "execute_result"
    }
   ],
   "source": [
    "x"
   ]
  },
  {
   "cell_type": "code",
   "execution_count": 15,
   "id": "8eaf9b1a",
   "metadata": {},
   "outputs": [],
   "source": [
    "from matplotlib.colors import ListedColormap\n",
    "\n",
    "# 境界をプロットする関数\n",
    "def plot_decision_boundary(model,x,y,margin=0.3):\n",
    "    _x1 = np.linspace(x[:,0].min()-margin,x[:,0].max()+margin,100)\n",
    "    _x2 = np.linspace(x[:,1].min()-margin,x[:,1].max()+margin,100)\n",
    "    x1,x2 = np.meshgrid(_x1,_x2)\n",
    "    x_new = np.c_[x1.ravel(),x2.ravel()]\n",
    "    y_pred = model.predict(x_new).reshape(x1.shape)\n",
    "    custom_cmap = ListedColormap(['mediumblue','orangered'])\n",
    "    plt.contourf(x1,x2,y_pred,alpha=0.3,cmap=custom_cmap)\n",
    "\n",
    "# 散布図をプロットする関数\n",
    "def plot_dataset(x,y):\n",
    "    plt.plot(x[:,0][y==0],x[:,1][y==0],'bo',ms=15)\n",
    "    plt.plot(x[:,0][y==1],x[:,1][y==1],'r^',ms=15)\n",
    "    plt.xlabel(\"$x_0$\",fontsize=30)\n",
    "    plt.ylabel(\"$x_1$\",fontsize=30,rotation=0)"
   ]
  },
  {
   "cell_type": "code",
   "execution_count": 16,
   "id": "757aa518",
   "metadata": {},
   "outputs": [
    {
     "data": {
      "image/png": "[encoded data removed]",
      "text/plain": [
       "<Figure size 1200x800 with 1 Axes>"
      ]
     },
     "metadata": {},
     "output_type": "display_data"
    }
   ],
   "source": [
    "plt.figure(figsize=(12,8))\n",
    "plot_dataset(x,y)\n",
    "plt.show()"
   ]
  },
  {
   "cell_type": "code",
   "execution_count": 17,
   "id": "872816da",
   "metadata": {},
   "outputs": [],
   "source": [
    "# 分類を実行\n",
    "# 決定木の場合\n",
    "from sklearn.model_selection import train_test_split\n",
    "from sklearn.tree import DecisionTreeClassifier\n",
    "\n",
    "x_train,x_test,y_train,y_test = train_test_split(x,y,random_state=0)\n",
    "\n",
    "tree_clf = DecisionTreeClassifier().fit(x_train,y_train)"
   ]
  },
  {
   "cell_type": "code",
   "execution_count": 18,
   "id": "48df7f9a",
   "metadata": {},
   "outputs": [
    {
     "data": {
      "image/png": "[encoded data removed]",
      "text/plain": [
       "<Figure size 1200x800 with 1 Axes>"
      ]
     },
     "metadata": {},
     "output_type": "display_data"
    }
   ],
   "source": [
    "plt.figure(figsize=(12,8))\n",
    "plot_decision_boundary(tree_clf,x,y)\n",
    "plot_dataset(x,y)\n",
    "\n",
    "# 決定木では、分類面が直線になってしまう。\n",
    "plt.show()"
   ]
  },
  {
   "cell_type": "code",
   "execution_count": 20,
   "id": "28757480",
   "metadata": {},
   "outputs": [],
   "source": [
    "# ランダムフォレストの場合\n",
    "from sklearn.ensemble import RandomForestClassifier"
   ]
  },
  {
   "cell_type": "code",
   "execution_count": 21,
   "id": "a5662727",
   "metadata": {},
   "outputs": [
    {
     "data": {
      "image/png": "[encoded data removed]",
      "text/plain": [
       "<Figure size 1200x800 with 1 Axes>"
      ]
     },
     "metadata": {},
     "output_type": "display_data"
    }
   ],
   "source": [
    "# ランダムフォレストを実行\n",
    "# n_estimators: 木の組み合わせ数\n",
    "random_forest = RandomForestClassifier(n_estimators=100,random_state=0).fit(x_train,y_train)\n",
    "\n",
    "# 分類面で曲線も表現できるようになった。\n",
    "plt.figure(figsize=(12,8))\n",
    "plot_decision_boundary(random_forest,x,y)\n",
    "plot_dataset(x,y)\n",
    "plt.show()"
   ]
  },
  {
   "cell_type": "code",
   "execution_count": 22,
   "id": "a03b52ee",
   "metadata": {},
   "outputs": [],
   "source": [
    "# irisデータで実行してみる\n",
    "from sklearn.datasets import load_iris"
   ]
  },
  {
   "cell_type": "code",
   "execution_count": 23,
   "id": "fb6ca2de",
   "metadata": {},
   "outputs": [],
   "source": [
    "iris = load_iris()\n",
    "x_iris = iris.data\n",
    "y_iris = iris.target"
   ]
  },
  {
   "cell_type": "code",
   "execution_count": 25,
   "id": "c4079ff7",
   "metadata": {},
   "outputs": [
    {
     "data": {
      "text/plain": [
       "['sepal length (cm)',\n",
       " 'sepal width (cm)',\n",
       " 'petal length (cm)',\n",
       " 'petal width (cm)']"
      ]
     },
     "execution_count": 25,
     "metadata": {},
     "output_type": "execute_result"
    }
   ],
   "source": [
    "# irisデータセットに保存されている特徴名\n",
    "iris.feature_names"
   ]
  },
  {
   "cell_type": "code",
   "execution_count": 24,
   "id": "148bfe0b",
   "metadata": {},
   "outputs": [],
   "source": [
    "# ランダムフォレストを実行\n",
    "random_forest_iris = RandomForestClassifier(n_estimators=100,random_state=0).fit(x_iris,y_iris)"
   ]
  },
  {
   "cell_type": "code",
   "execution_count": 27,
   "id": "81214267",
   "metadata": {},
   "outputs": [
    {
     "data": {
      "text/plain": [
       "array([0.09090795, 0.02453104, 0.46044474, 0.42411627])"
      ]
     },
     "execution_count": 27,
     "metadata": {},
     "output_type": "execute_result"
    }
   ],
   "source": [
    "# 学習したデータの特徴量の重要度を表示できる。\n",
    "# 各データ番号は、特徴名にそれぞれ対応する。\n",
    "random_forest_iris.feature_importances_"
   ]
  },
  {
   "cell_type": "code",
   "execution_count": 28,
   "id": "17e65242",
   "metadata": {},
   "outputs": [
    {
     "data": {
      "image/png": "[encoded data removed]",
      "text/plain": [
       "<Figure size 1200x800 with 1 Axes>"
      ]
     },
     "metadata": {},
     "output_type": "display_data"
    }
   ],
   "source": [
    "plt.figure(figsize=(12,8))\n",
    "plt.barh(range(iris.data.shape[1]),random_forest_iris.feature_importances_,height=0.5)\n",
    "plt.yticks(range(iris.data.shape[1]),iris.feature_names,fontsize=20)\n",
    "plt.xlabel('Feature Importance',fontsize=20)\n",
    "plt.show()"
   ]
  },
  {
   "cell_type": "code",
   "execution_count": 30,
   "id": "5fa227ff",
   "metadata": {},
   "outputs": [
    {
     "data": {
      "text/html": [
       "<div>\n",
       "<style scoped>\n",
       "    .dataframe tbody tr th:only-of-type {\n",
       "        vertical-align: middle;\n",
       "    }\n",
       "\n",
       "    .dataframe tbody tr th {\n",
       "        vertical-align: top;\n",
       "    }\n",
       "\n",
       "    .dataframe thead th {\n",
       "        text-align: right;\n",
       "    }\n",
       "</style>\n",
       "<table border=\"1\" class=\"dataframe\">\n",
       "  <thead>\n",
       "    <tr style=\"text-align: right;\">\n",
       "      <th></th>\n",
       "      <th>PassengerId</th>\n",
       "      <th>Survived</th>\n",
       "      <th>Pclass</th>\n",
       "      <th>Name</th>\n",
       "      <th>Sex</th>\n",
       "      <th>Age</th>\n",
       "      <th>SibSp</th>\n",
       "      <th>Parch</th>\n",
       "      <th>Ticket</th>\n",
       "      <th>Fare</th>\n",
       "      <th>Cabin</th>\n",
       "      <th>Embarked</th>\n",
       "    </tr>\n",
       "  </thead>\n",
       "  <tbody>\n",
       "    <tr>\n",
       "      <th>0</th>\n",
       "      <td>1</td>\n",
       "      <td>0</td>\n",
       "      <td>3</td>\n",
       "      <td>Braund, Mr. Owen Harris</td>\n",
       "      <td>male</td>\n",
       "      <td>22.0</td>\n",
       "      <td>1</td>\n",
       "      <td>0</td>\n",
       "      <td>A/5 21171</td>\n",
       "      <td>7.2500</td>\n",
       "      <td>NaN</td>\n",
       "      <td>S</td>\n",
       "    </tr>\n",
       "    <tr>\n",
       "      <th>1</th>\n",
       "      <td>2</td>\n",
       "      <td>1</td>\n",
       "      <td>1</td>\n",
       "      <td>Cumings, Mrs. John Bradley (Florence Briggs Th...</td>\n",
       "      <td>female</td>\n",
       "      <td>38.0</td>\n",
       "      <td>1</td>\n",
       "      <td>0</td>\n",
       "      <td>PC 17599</td>\n",
       "      <td>71.2833</td>\n",
       "      <td>C85</td>\n",
       "      <td>C</td>\n",
       "    </tr>\n",
       "    <tr>\n",
       "      <th>2</th>\n",
       "      <td>3</td>\n",
       "      <td>1</td>\n",
       "      <td>3</td>\n",
       "      <td>Heikkinen, Miss. Laina</td>\n",
       "      <td>female</td>\n",
       "      <td>26.0</td>\n",
       "      <td>0</td>\n",
       "      <td>0</td>\n",
       "      <td>STON/O2. 3101282</td>\n",
       "      <td>7.9250</td>\n",
       "      <td>NaN</td>\n",
       "      <td>S</td>\n",
       "    </tr>\n",
       "    <tr>\n",
       "      <th>3</th>\n",
       "      <td>4</td>\n",
       "      <td>1</td>\n",
       "      <td>1</td>\n",
       "      <td>Futrelle, Mrs. Jacques Heath (Lily May Peel)</td>\n",
       "      <td>female</td>\n",
       "      <td>35.0</td>\n",
       "      <td>1</td>\n",
       "      <td>0</td>\n",
       "      <td>113803</td>\n",
       "      <td>53.1000</td>\n",
       "      <td>C123</td>\n",
       "      <td>S</td>\n",
       "    </tr>\n",
       "    <tr>\n",
       "      <th>4</th>\n",
       "      <td>5</td>\n",
       "      <td>0</td>\n",
       "      <td>3</td>\n",
       "      <td>Allen, Mr. William Henry</td>\n",
       "      <td>male</td>\n",
       "      <td>35.0</td>\n",
       "      <td>0</td>\n",
       "      <td>0</td>\n",
       "      <td>373450</td>\n",
       "      <td>8.0500</td>\n",
       "      <td>NaN</td>\n",
       "      <td>S</td>\n",
       "    </tr>\n",
       "  </tbody>\n",
       "</table>\n",
       "</div>"
      ],
      "text/plain": [
       "   PassengerId  Survived  Pclass  \\\n",
       "0            1         0       3   \n",
       "1            2         1       1   \n",
       "2            3         1       3   \n",
       "3            4         1       1   \n",
       "4            5         0       3   \n",
       "\n",
       "                                                Name     Sex   Age  SibSp  \\\n",
       "0                            Braund, Mr. Owen Harris    male  22.0      1   \n",
       "1  Cumings, Mrs. John Bradley (Florence Briggs Th...  female  38.0      1   \n",
       "2                             Heikkinen, Miss. Laina  female  26.0      0   \n",
       "3       Futrelle, Mrs. Jacques Heath (Lily May Peel)  female  35.0      1   \n",
       "4                           Allen, Mr. William Henry    male  35.0      0   \n",
       "\n",
       "   Parch            Ticket     Fare Cabin Embarked  \n",
       "0      0         A/5 21171   7.2500   NaN        S  \n",
       "1      0          PC 17599  71.2833   C85        C  \n",
       "2      0  STON/O2. 3101282   7.9250   NaN        S  \n",
       "3      0            113803  53.1000  C123        S  \n",
       "4      0            373450   8.0500   NaN        S  "
      ]
     },
     "execution_count": 30,
     "metadata": {},
     "output_type": "execute_result"
    }
   ],
   "source": [
    "# さらに現実的なデータセットで学習してみる\n",
    "# titanicデータセットのSurvived(0 or 1)を予測してみる。\n",
    "import pandas as pd\n",
    "\n",
    "df = pd.read_csv('titanic_train.csv')\n",
    "df.head()"
   ]
  },
  {
   "cell_type": "code",
   "execution_count": 31,
   "id": "55809f37",
   "metadata": {},
   "outputs": [
    {
     "name": "stdout",
     "output_type": "stream",
     "text": [
      "<class 'pandas.core.frame.DataFrame'>\n",
      "RangeIndex: 891 entries, 0 to 890\n",
      "Data columns (total 12 columns):\n",
      " #   Column       Non-Null Count  Dtype  \n",
      "---  ------       --------------  -----  \n",
      " 0   PassengerId  891 non-null    int64  \n",
      " 1   Survived     891 non-null    int64  \n",
      " 2   Pclass       891 non-null    int64  \n",
      " 3   Name         891 non-null    object \n",
      " 4   Sex          891 non-null    object \n",
      " 5   Age          714 non-null    float64\n",
      " 6   SibSp        891 non-null    int64  \n",
      " 7   Parch        891 non-null    int64  \n",
      " 8   Ticket       891 non-null    object \n",
      " 9   Fare         891 non-null    float64\n",
      " 10  Cabin        204 non-null    object \n",
      " 11  Embarked     889 non-null    object \n",
      "dtypes: float64(2), int64(5), object(5)\n",
      "memory usage: 83.7+ KB\n"
     ]
    }
   ],
   "source": [
    "df.info()"
   ]
  },
  {
   "cell_type": "code",
   "execution_count": 33,
   "id": "797f3b38",
   "metadata": {},
   "outputs": [
    {
     "name": "stdout",
     "output_type": "stream",
     "text": [
      "<class 'pandas.core.frame.DataFrame'>\n",
      "RangeIndex: 891 entries, 0 to 890\n",
      "Data columns (total 12 columns):\n",
      " #   Column       Non-Null Count  Dtype  \n",
      "---  ------       --------------  -----  \n",
      " 0   PassengerId  891 non-null    int64  \n",
      " 1   Survived     891 non-null    int64  \n",
      " 2   Pclass       891 non-null    int64  \n",
      " 3   Name         891 non-null    object \n",
      " 4   Sex          891 non-null    object \n",
      " 5   Age          891 non-null    float64\n",
      " 6   SibSp        891 non-null    int64  \n",
      " 7   Parch        891 non-null    int64  \n",
      " 8   Ticket       891 non-null    object \n",
      " 9   Fare         891 non-null    float64\n",
      " 10  Cabin        204 non-null    object \n",
      " 11  Embarked     891 non-null    object \n",
      "dtypes: float64(2), int64(5), object(5)\n",
      "memory usage: 83.7+ KB\n"
     ]
    }
   ],
   "source": [
    "# Survivedを予測することが目標\n",
    "# RangeIndex: 891なので、891個のデータがある。\n",
    "# ageの欠損値をageの平均値で埋める\n",
    "df['Age'] = df['Age'].fillna(df['Age'].mean())\n",
    "# Embarkedの欠損値をEmbarkedの最頻値で埋める\n",
    "df['Embarked'] = df['Embarked'].fillna(df['Embarked'].mode()[0])\n",
    "\n",
    "# ageとEmbarkedのデータ数が891個になったことを確認する\n",
    "df.info()"
   ]
  },
  {
   "cell_type": "code",
   "execution_count": 34,
   "id": "2505f217",
   "metadata": {},
   "outputs": [],
   "source": [
    "# カテゴリー名を文字列から数値に変換する\n",
    "# 今回のデータセットでは、sexとEmbarkedを数値に変換する\n",
    "\n",
    "# 文字データを数字に変更\n",
    "from sklearn.preprocessing import LabelEncoder\n",
    "\n",
    "cat_features = ['Sex','Embarked']\n",
    "\n",
    "for col in cat_features:\n",
    "    lbl = LabelEncoder()\n",
    "    df[col] = lbl.fit_transform(list(df[col].values))"
   ]
  },
  {
   "cell_type": "code",
   "execution_count": 36,
   "id": "03aa3e14",
   "metadata": {},
   "outputs": [
    {
     "data": {
      "text/html": [
       "<div>\n",
       "<style scoped>\n",
       "    .dataframe tbody tr th:only-of-type {\n",
       "        vertical-align: middle;\n",
       "    }\n",
       "\n",
       "    .dataframe tbody tr th {\n",
       "        vertical-align: top;\n",
       "    }\n",
       "\n",
       "    .dataframe thead th {\n",
       "        text-align: right;\n",
       "    }\n",
       "</style>\n",
       "<table border=\"1\" class=\"dataframe\">\n",
       "  <thead>\n",
       "    <tr style=\"text-align: right;\">\n",
       "      <th></th>\n",
       "      <th>PassengerId</th>\n",
       "      <th>Survived</th>\n",
       "      <th>Pclass</th>\n",
       "      <th>Name</th>\n",
       "      <th>Sex</th>\n",
       "      <th>Age</th>\n",
       "      <th>SibSp</th>\n",
       "      <th>Parch</th>\n",
       "      <th>Ticket</th>\n",
       "      <th>Fare</th>\n",
       "      <th>Cabin</th>\n",
       "      <th>Embarked</th>\n",
       "    </tr>\n",
       "  </thead>\n",
       "  <tbody>\n",
       "    <tr>\n",
       "      <th>0</th>\n",
       "      <td>1</td>\n",
       "      <td>0</td>\n",
       "      <td>3</td>\n",
       "      <td>Braund, Mr. Owen Harris</td>\n",
       "      <td>1</td>\n",
       "      <td>22.0</td>\n",
       "      <td>1</td>\n",
       "      <td>0</td>\n",
       "      <td>A/5 21171</td>\n",
       "      <td>7.2500</td>\n",
       "      <td>NaN</td>\n",
       "      <td>2</td>\n",
       "    </tr>\n",
       "    <tr>\n",
       "      <th>1</th>\n",
       "      <td>2</td>\n",
       "      <td>1</td>\n",
       "      <td>1</td>\n",
       "      <td>Cumings, Mrs. John Bradley (Florence Briggs Th...</td>\n",
       "      <td>0</td>\n",
       "      <td>38.0</td>\n",
       "      <td>1</td>\n",
       "      <td>0</td>\n",
       "      <td>PC 17599</td>\n",
       "      <td>71.2833</td>\n",
       "      <td>C85</td>\n",
       "      <td>0</td>\n",
       "    </tr>\n",
       "    <tr>\n",
       "      <th>2</th>\n",
       "      <td>3</td>\n",
       "      <td>1</td>\n",
       "      <td>3</td>\n",
       "      <td>Heikkinen, Miss. Laina</td>\n",
       "      <td>0</td>\n",
       "      <td>26.0</td>\n",
       "      <td>0</td>\n",
       "      <td>0</td>\n",
       "      <td>STON/O2. 3101282</td>\n",
       "      <td>7.9250</td>\n",
       "      <td>NaN</td>\n",
       "      <td>2</td>\n",
       "    </tr>\n",
       "    <tr>\n",
       "      <th>3</th>\n",
       "      <td>4</td>\n",
       "      <td>1</td>\n",
       "      <td>1</td>\n",
       "      <td>Futrelle, Mrs. Jacques Heath (Lily May Peel)</td>\n",
       "      <td>0</td>\n",
       "      <td>35.0</td>\n",
       "      <td>1</td>\n",
       "      <td>0</td>\n",
       "      <td>113803</td>\n",
       "      <td>53.1000</td>\n",
       "      <td>C123</td>\n",
       "      <td>2</td>\n",
       "    </tr>\n",
       "    <tr>\n",
       "      <th>4</th>\n",
       "      <td>5</td>\n",
       "      <td>0</td>\n",
       "      <td>3</td>\n",
       "      <td>Allen, Mr. William Henry</td>\n",
       "      <td>1</td>\n",
       "      <td>35.0</td>\n",
       "      <td>0</td>\n",
       "      <td>0</td>\n",
       "      <td>373450</td>\n",
       "      <td>8.0500</td>\n",
       "      <td>NaN</td>\n",
       "      <td>2</td>\n",
       "    </tr>\n",
       "  </tbody>\n",
       "</table>\n",
       "</div>"
      ],
      "text/plain": [
       "   PassengerId  Survived  Pclass  \\\n",
       "0            1         0       3   \n",
       "1            2         1       1   \n",
       "2            3         1       3   \n",
       "3            4         1       1   \n",
       "4            5         0       3   \n",
       "\n",
       "                                                Name  Sex   Age  SibSp  Parch  \\\n",
       "0                            Braund, Mr. Owen Harris    1  22.0      1      0   \n",
       "1  Cumings, Mrs. John Bradley (Florence Briggs Th...    0  38.0      1      0   \n",
       "2                             Heikkinen, Miss. Laina    0  26.0      0      0   \n",
       "3       Futrelle, Mrs. Jacques Heath (Lily May Peel)    0  35.0      1      0   \n",
       "4                           Allen, Mr. William Henry    1  35.0      0      0   \n",
       "\n",
       "             Ticket     Fare Cabin  Embarked  \n",
       "0         A/5 21171   7.2500   NaN         2  \n",
       "1          PC 17599  71.2833   C85         0  \n",
       "2  STON/O2. 3101282   7.9250   NaN         2  \n",
       "3            113803  53.1000  C123         2  \n",
       "4            373450   8.0500   NaN         2  "
      ]
     },
     "execution_count": 36,
     "metadata": {},
     "output_type": "execute_result"
    }
   ],
   "source": [
    "# sexとEmbarkedが数値で表現されていることを確認する\n",
    "df.head()"
   ]
  },
  {
   "cell_type": "code",
   "execution_count": 37,
   "id": "771b8666",
   "metadata": {},
   "outputs": [],
   "source": [
    "# 以上がデータの前処理\n",
    "# 使わないデータをdrop\n",
    "x = df.drop(columns=['PassengerId','Survived','Name','Ticket','Cabin'])\n",
    "\n",
    "#予測の対象となるデータ\n",
    "y = df['Survived']"
   ]
  },
  {
   "cell_type": "code",
   "execution_count": 38,
   "id": "7707aa13",
   "metadata": {},
   "outputs": [
    {
     "data": {
      "text/html": [
       "<div>\n",
       "<style scoped>\n",
       "    .dataframe tbody tr th:only-of-type {\n",
       "        vertical-align: middle;\n",
       "    }\n",
       "\n",
       "    .dataframe tbody tr th {\n",
       "        vertical-align: top;\n",
       "    }\n",
       "\n",
       "    .dataframe thead th {\n",
       "        text-align: right;\n",
       "    }\n",
       "</style>\n",
       "<table border=\"1\" class=\"dataframe\">\n",
       "  <thead>\n",
       "    <tr style=\"text-align: right;\">\n",
       "      <th></th>\n",
       "      <th>Pclass</th>\n",
       "      <th>Sex</th>\n",
       "      <th>Age</th>\n",
       "      <th>SibSp</th>\n",
       "      <th>Parch</th>\n",
       "      <th>Fare</th>\n",
       "      <th>Embarked</th>\n",
       "    </tr>\n",
       "  </thead>\n",
       "  <tbody>\n",
       "    <tr>\n",
       "      <th>0</th>\n",
       "      <td>3</td>\n",
       "      <td>1</td>\n",
       "      <td>22.0</td>\n",
       "      <td>1</td>\n",
       "      <td>0</td>\n",
       "      <td>7.2500</td>\n",
       "      <td>2</td>\n",
       "    </tr>\n",
       "    <tr>\n",
       "      <th>1</th>\n",
       "      <td>1</td>\n",
       "      <td>0</td>\n",
       "      <td>38.0</td>\n",
       "      <td>1</td>\n",
       "      <td>0</td>\n",
       "      <td>71.2833</td>\n",
       "      <td>0</td>\n",
       "    </tr>\n",
       "    <tr>\n",
       "      <th>2</th>\n",
       "      <td>3</td>\n",
       "      <td>0</td>\n",
       "      <td>26.0</td>\n",
       "      <td>0</td>\n",
       "      <td>0</td>\n",
       "      <td>7.9250</td>\n",
       "      <td>2</td>\n",
       "    </tr>\n",
       "    <tr>\n",
       "      <th>3</th>\n",
       "      <td>1</td>\n",
       "      <td>0</td>\n",
       "      <td>35.0</td>\n",
       "      <td>1</td>\n",
       "      <td>0</td>\n",
       "      <td>53.1000</td>\n",
       "      <td>2</td>\n",
       "    </tr>\n",
       "    <tr>\n",
       "      <th>4</th>\n",
       "      <td>3</td>\n",
       "      <td>1</td>\n",
       "      <td>35.0</td>\n",
       "      <td>0</td>\n",
       "      <td>0</td>\n",
       "      <td>8.0500</td>\n",
       "      <td>2</td>\n",
       "    </tr>\n",
       "  </tbody>\n",
       "</table>\n",
       "</div>"
      ],
      "text/plain": [
       "   Pclass  Sex   Age  SibSp  Parch     Fare  Embarked\n",
       "0       3    1  22.0      1      0   7.2500         2\n",
       "1       1    0  38.0      1      0  71.2833         0\n",
       "2       3    0  26.0      0      0   7.9250         2\n",
       "3       1    0  35.0      1      0  53.1000         2\n",
       "4       3    1  35.0      0      0   8.0500         2"
      ]
     },
     "execution_count": 38,
     "metadata": {},
     "output_type": "execute_result"
    }
   ],
   "source": [
    "x.head()"
   ]
  },
  {
   "cell_type": "code",
   "execution_count": 39,
   "id": "aa2ada0f",
   "metadata": {},
   "outputs": [],
   "source": [
    "x_train,x_test,y_train,y_test = train_test_split(x,y,random_state=0)"
   ]
  },
  {
   "cell_type": "code",
   "execution_count": 41,
   "id": "1b53bead",
   "metadata": {},
   "outputs": [
    {
     "data": {
      "text/plain": [
       "0.7533632286995515"
      ]
     },
     "execution_count": 41,
     "metadata": {},
     "output_type": "execute_result"
    }
   ],
   "source": [
    "# 決定木を実行\n",
    "tree = DecisionTreeClassifier().fit(x_train,y_train)\n",
    "\n",
    "# 正答率\n",
    "tree.score(x_test,y_test)"
   ]
  },
  {
   "cell_type": "code",
   "execution_count": 42,
   "id": "a8773baa",
   "metadata": {},
   "outputs": [
    {
     "data": {
      "text/plain": [
       "0.8295964125560538"
      ]
     },
     "execution_count": 42,
     "metadata": {},
     "output_type": "execute_result"
    }
   ],
   "source": [
    "# ランダムフォレストを実行\n",
    "rnd_forest = RandomForestClassifier(n_estimators=500,max_depth=5,random_state=0).fit(x_train,y_train)\n",
    "\n",
    "# 正答率\n",
    "rnd_forest.score(x_test,y_test)"
   ]
  },
  {
   "cell_type": "code",
   "execution_count": 44,
   "id": "500b5c76",
   "metadata": {},
   "outputs": [
    {
     "data": {
      "text/html": [
       "<div>\n",
       "<style scoped>\n",
       "    .dataframe tbody tr th:only-of-type {\n",
       "        vertical-align: middle;\n",
       "    }\n",
       "\n",
       "    .dataframe tbody tr th {\n",
       "        vertical-align: top;\n",
       "    }\n",
       "\n",
       "    .dataframe thead th {\n",
       "        text-align: right;\n",
       "    }\n",
       "</style>\n",
       "<table border=\"1\" class=\"dataframe\">\n",
       "  <thead>\n",
       "    <tr style=\"text-align: right;\">\n",
       "      <th></th>\n",
       "      <th>PassengerId</th>\n",
       "      <th>Pclass</th>\n",
       "      <th>Name</th>\n",
       "      <th>Sex</th>\n",
       "      <th>Age</th>\n",
       "      <th>SibSp</th>\n",
       "      <th>Parch</th>\n",
       "      <th>Ticket</th>\n",
       "      <th>Fare</th>\n",
       "      <th>Cabin</th>\n",
       "      <th>Embarked</th>\n",
       "    </tr>\n",
       "  </thead>\n",
       "  <tbody>\n",
       "    <tr>\n",
       "      <th>0</th>\n",
       "      <td>892</td>\n",
       "      <td>3</td>\n",
       "      <td>Kelly, Mr. James</td>\n",
       "      <td>male</td>\n",
       "      <td>34.5</td>\n",
       "      <td>0</td>\n",
       "      <td>0</td>\n",
       "      <td>330911</td>\n",
       "      <td>7.8292</td>\n",
       "      <td>NaN</td>\n",
       "      <td>Q</td>\n",
       "    </tr>\n",
       "    <tr>\n",
       "      <th>1</th>\n",
       "      <td>893</td>\n",
       "      <td>3</td>\n",
       "      <td>Wilkes, Mrs. James (Ellen Needs)</td>\n",
       "      <td>female</td>\n",
       "      <td>47.0</td>\n",
       "      <td>1</td>\n",
       "      <td>0</td>\n",
       "      <td>363272</td>\n",
       "      <td>7.0000</td>\n",
       "      <td>NaN</td>\n",
       "      <td>S</td>\n",
       "    </tr>\n",
       "    <tr>\n",
       "      <th>2</th>\n",
       "      <td>894</td>\n",
       "      <td>2</td>\n",
       "      <td>Myles, Mr. Thomas Francis</td>\n",
       "      <td>male</td>\n",
       "      <td>62.0</td>\n",
       "      <td>0</td>\n",
       "      <td>0</td>\n",
       "      <td>240276</td>\n",
       "      <td>9.6875</td>\n",
       "      <td>NaN</td>\n",
       "      <td>Q</td>\n",
       "    </tr>\n",
       "    <tr>\n",
       "      <th>3</th>\n",
       "      <td>895</td>\n",
       "      <td>3</td>\n",
       "      <td>Wirz, Mr. Albert</td>\n",
       "      <td>male</td>\n",
       "      <td>27.0</td>\n",
       "      <td>0</td>\n",
       "      <td>0</td>\n",
       "      <td>315154</td>\n",
       "      <td>8.6625</td>\n",
       "      <td>NaN</td>\n",
       "      <td>S</td>\n",
       "    </tr>\n",
       "    <tr>\n",
       "      <th>4</th>\n",
       "      <td>896</td>\n",
       "      <td>3</td>\n",
       "      <td>Hirvonen, Mrs. Alexander (Helga E Lindqvist)</td>\n",
       "      <td>female</td>\n",
       "      <td>22.0</td>\n",
       "      <td>1</td>\n",
       "      <td>1</td>\n",
       "      <td>3101298</td>\n",
       "      <td>12.2875</td>\n",
       "      <td>NaN</td>\n",
       "      <td>S</td>\n",
       "    </tr>\n",
       "  </tbody>\n",
       "</table>\n",
       "</div>"
      ],
      "text/plain": [
       "   PassengerId  Pclass                                          Name     Sex  \\\n",
       "0          892       3                              Kelly, Mr. James    male   \n",
       "1          893       3              Wilkes, Mrs. James (Ellen Needs)  female   \n",
       "2          894       2                     Myles, Mr. Thomas Francis    male   \n",
       "3          895       3                              Wirz, Mr. Albert    male   \n",
       "4          896       3  Hirvonen, Mrs. Alexander (Helga E Lindqvist)  female   \n",
       "\n",
       "    Age  SibSp  Parch   Ticket     Fare Cabin Embarked  \n",
       "0  34.5      0      0   330911   7.8292   NaN        Q  \n",
       "1  47.0      1      0   363272   7.0000   NaN        S  \n",
       "2  62.0      0      0   240276   9.6875   NaN        Q  \n",
       "3  27.0      0      0   315154   8.6625   NaN        S  \n",
       "4  22.0      1      1  3101298  12.2875   NaN        S  "
      ]
     },
     "execution_count": 44,
     "metadata": {},
     "output_type": "execute_result"
    }
   ],
   "source": [
    "# 機械学習コンテスト用のテストデータを学習させてみる。\n",
    "test_df = pd.read_csv('titanic_test.csv')\n",
    "test_df.head()"
   ]
  },
  {
   "cell_type": "code",
   "execution_count": 45,
   "id": "ecafa2c9",
   "metadata": {},
   "outputs": [
    {
     "name": "stdout",
     "output_type": "stream",
     "text": [
      "<class 'pandas.core.frame.DataFrame'>\n",
      "RangeIndex: 418 entries, 0 to 417\n",
      "Data columns (total 11 columns):\n",
      " #   Column       Non-Null Count  Dtype  \n",
      "---  ------       --------------  -----  \n",
      " 0   PassengerId  418 non-null    int64  \n",
      " 1   Pclass       418 non-null    int64  \n",
      " 2   Name         418 non-null    object \n",
      " 3   Sex          418 non-null    object \n",
      " 4   Age          332 non-null    float64\n",
      " 5   SibSp        418 non-null    int64  \n",
      " 6   Parch        418 non-null    int64  \n",
      " 7   Ticket       418 non-null    object \n",
      " 8   Fare         417 non-null    float64\n",
      " 9   Cabin        91 non-null     object \n",
      " 10  Embarked     418 non-null    object \n",
      "dtypes: float64(2), int64(4), object(5)\n",
      "memory usage: 36.0+ KB\n"
     ]
    }
   ],
   "source": [
    "test_df.info()"
   ]
  },
  {
   "cell_type": "code",
   "execution_count": 51,
   "id": "41051296",
   "metadata": {},
   "outputs": [
    {
     "name": "stdout",
     "output_type": "stream",
     "text": [
      "<class 'pandas.core.frame.DataFrame'>\n",
      "RangeIndex: 418 entries, 0 to 417\n",
      "Data columns (total 11 columns):\n",
      " #   Column       Non-Null Count  Dtype  \n",
      "---  ------       --------------  -----  \n",
      " 0   PassengerId  418 non-null    int64  \n",
      " 1   Pclass       418 non-null    int64  \n",
      " 2   Name         418 non-null    object \n",
      " 3   Sex          418 non-null    int64  \n",
      " 4   Age          418 non-null    float64\n",
      " 5   SibSp        418 non-null    int64  \n",
      " 6   Parch        418 non-null    int64  \n",
      " 7   Ticket       418 non-null    object \n",
      " 8   Fare         418 non-null    float64\n",
      " 9   Cabin        91 non-null     object \n",
      " 10  Embarked     418 non-null    int64  \n",
      "dtypes: float64(2), int64(6), object(3)\n",
      "memory usage: 36.0+ KB\n"
     ]
    }
   ],
   "source": [
    "# 欠損値を埋める\n",
    "test_df['Age'] = test_df['Age'].fillna(test_df['Age'].mean())\n",
    "test_df['Fare'] = test_df['Fare'].fillna(test_df['Fare'].mean())\n",
    "test_df.info()"
   ]
  },
  {
   "cell_type": "code",
   "execution_count": 52,
   "id": "3d922e4f",
   "metadata": {},
   "outputs": [],
   "source": [
    "# カテゴリー名を文字列から数値に変換する\n",
    "cat_features = ['Sex','Embarked']\n",
    "\n",
    "for col in cat_features:\n",
    "    lbl = LabelEncoder()\n",
    "    test_df[col] = lbl.fit_transform(list(test_df[col].values))"
   ]
  },
  {
   "cell_type": "code",
   "execution_count": 53,
   "id": "4a9c661d",
   "metadata": {},
   "outputs": [],
   "source": [
    "# 学習に使用しない特徴を除く\n",
    "x_pred = test_df.drop(columns=['PassengerId','Name','Ticket','Cabin'])\n",
    "ID = test_df['PassengerId']"
   ]
  },
  {
   "cell_type": "code",
   "execution_count": 54,
   "id": "459c872c",
   "metadata": {},
   "outputs": [
    {
     "data": {
      "text/plain": [
       "array([0, 0, 0, 0, 1, 0, 1, 0, 1, 0, 0, 0, 1, 0, 1, 1, 0, 0, 0, 0, 0, 0,\n",
       "       1, 0, 1, 0, 1, 0, 0, 0, 0, 0, 0, 0, 0, 0, 0, 1, 0, 0, 0, 0, 0, 1,\n",
       "       1, 0, 0, 0, 1, 0, 0, 0, 1, 1, 0, 0, 0, 0, 0, 1, 0, 0, 0, 1, 1, 1,\n",
       "       1, 0, 0, 1, 1, 0, 1, 0, 1, 0, 0, 1, 0, 1, 1, 0, 0, 0, 0, 0, 1, 1,\n",
       "       1, 1, 1, 0, 1, 0, 0, 0, 1, 0, 1, 0, 1, 0, 0, 0, 1, 0, 0, 0, 0, 0,\n",
       "       0, 1, 1, 1, 1, 0, 0, 1, 0, 1, 1, 0, 1, 0, 0, 1, 0, 1, 0, 0, 0, 0,\n",
       "       0, 0, 0, 0, 0, 0, 0, 0, 0, 1, 0, 0, 0, 0, 0, 0, 0, 0, 1, 0, 0, 0,\n",
       "       0, 0, 1, 1, 0, 1, 1, 1, 1, 0, 0, 0, 0, 0, 1, 1, 0, 0, 0, 0, 0, 1,\n",
       "       1, 0, 1, 1, 0, 0, 1, 0, 1, 0, 1, 0, 0, 0, 0, 0, 0, 0, 1, 0, 1, 1,\n",
       "       0, 0, 1, 1, 0, 1, 0, 0, 1, 0, 1, 0, 0, 0, 0, 1, 0, 0, 1, 0, 1, 0,\n",
       "       1, 0, 1, 0, 1, 1, 0, 1, 0, 0, 0, 1, 0, 0, 0, 0, 0, 0, 1, 1, 1, 1,\n",
       "       0, 0, 0, 0, 1, 0, 1, 1, 1, 0, 0, 0, 0, 0, 0, 0, 1, 0, 0, 0, 1, 1,\n",
       "       0, 0, 0, 0, 0, 0, 0, 0, 1, 1, 0, 1, 0, 0, 0, 0, 0, 1, 1, 1, 1, 0,\n",
       "       0, 0, 0, 0, 0, 1, 0, 0, 0, 0, 1, 0, 0, 0, 0, 0, 0, 0, 1, 1, 0, 1,\n",
       "       0, 0, 0, 0, 0, 1, 1, 1, 0, 0, 0, 0, 0, 0, 0, 0, 1, 0, 1, 0, 0, 0,\n",
       "       1, 0, 0, 1, 0, 0, 0, 0, 0, 0, 0, 0, 0, 1, 0, 1, 0, 0, 0, 1, 1, 0,\n",
       "       0, 0, 1, 0, 1, 0, 0, 0, 0, 1, 1, 0, 1, 0, 0, 0, 1, 0, 0, 1, 0, 0,\n",
       "       1, 1, 0, 0, 0, 0, 0, 0, 0, 1, 0, 1, 0, 0, 0, 0, 0, 1, 0, 0, 0, 1,\n",
       "       0, 1, 0, 0, 1, 0, 1, 0, 0, 0, 0, 0, 1, 1, 1, 1, 1, 0, 1, 0, 0, 0],\n",
       "      dtype=int64)"
      ]
     },
     "execution_count": 54,
     "metadata": {},
     "output_type": "execute_result"
    }
   ],
   "source": [
    "prediction = rnd_forest.predict(x_pred)\n",
    "prediction"
   ]
  },
  {
   "cell_type": "code",
   "execution_count": 56,
   "id": "78cf1055",
   "metadata": {},
   "outputs": [
    {
     "data": {
      "text/html": [
       "<div>\n",
       "<style scoped>\n",
       "    .dataframe tbody tr th:only-of-type {\n",
       "        vertical-align: middle;\n",
       "    }\n",
       "\n",
       "    .dataframe tbody tr th {\n",
       "        vertical-align: top;\n",
       "    }\n",
       "\n",
       "    .dataframe thead th {\n",
       "        text-align: right;\n",
       "    }\n",
       "</style>\n",
       "<table border=\"1\" class=\"dataframe\">\n",
       "  <thead>\n",
       "    <tr style=\"text-align: right;\">\n",
       "      <th></th>\n",
       "      <th>PassengerId</th>\n",
       "      <th>Survived</th>\n",
       "    </tr>\n",
       "  </thead>\n",
       "  <tbody>\n",
       "    <tr>\n",
       "      <th>0</th>\n",
       "      <td>892</td>\n",
       "      <td>0</td>\n",
       "    </tr>\n",
       "    <tr>\n",
       "      <th>1</th>\n",
       "      <td>893</td>\n",
       "      <td>0</td>\n",
       "    </tr>\n",
       "    <tr>\n",
       "      <th>2</th>\n",
       "      <td>894</td>\n",
       "      <td>0</td>\n",
       "    </tr>\n",
       "    <tr>\n",
       "      <th>3</th>\n",
       "      <td>895</td>\n",
       "      <td>0</td>\n",
       "    </tr>\n",
       "    <tr>\n",
       "      <th>4</th>\n",
       "      <td>896</td>\n",
       "      <td>1</td>\n",
       "    </tr>\n",
       "  </tbody>\n",
       "</table>\n",
       "</div>"
      ],
      "text/plain": [
       "   PassengerId  Survived\n",
       "0          892         0\n",
       "1          893         0\n",
       "2          894         0\n",
       "3          895         0\n",
       "4          896         1"
      ]
     },
     "execution_count": 56,
     "metadata": {},
     "output_type": "execute_result"
    }
   ],
   "source": [
    "# ファイルとして出力するフォーマットを指定\n",
    "submission = pd.DataFrame({\n",
    "    'PassengerId': ID,\n",
    "    'Survived': prediction\n",
    "})\n",
    "\n",
    "submission.head()"
   ]
  },
  {
   "cell_type": "code",
   "execution_count": 57,
   "id": "70f9ed8b",
   "metadata": {},
   "outputs": [],
   "source": [
    "# index=False :左端のデータ番号を書き出すファイルに含めない\n",
    "submission.to_csv('11_titanic_test_output.csv',index=False)"
   ]
  },
  {
   "cell_type": "code",
   "execution_count": null,
   "id": "79abf447",
   "metadata": {},
   "outputs": [],
   "source": []
  }
 ],
 "metadata": {
  "kernelspec": {
   "display_name": "Python 3 (ipykernel)",
   "language": "python",
   "name": "python3"
  },
  "language_info": {
   "codemirror_mode": {
    "name": "ipython",
    "version": 3
   },
   "file_extension": ".py",
   "mimetype": "text/x-python",
   "name": "python",
   "nbconvert_exporter": "python",
   "pygments_lexer": "ipython3",
   "version": "3.10.9"
  }
 },
 "nbformat": 4,
 "nbformat_minor": 5
}
